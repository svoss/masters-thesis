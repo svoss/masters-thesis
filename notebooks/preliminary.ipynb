{
 "cells": [
  {
   "cell_type": "markdown",
   "metadata": {},
   "source": [
    "# Preliminary\n",
    "In this notebook I want to get a sense about the two biggest challenges i see in my proposal architecture and the Optional Multi Task loss function, where sometimes some of the tasks are not defined. This will also give me insight in the computational requirements of this network. \n",
    "\n",
    "I will make use of a smaller dataset from epicurious.com and jamieoliver.com. For this purpose I make use of the https://github.com/brandonmburroughs/RecipesScraper scraper.\n",
    "\n",
    "## Dataset\n",
    "Our dataset consist of large json files. We got about 27,500 recipes from epicurious and 2,300 from jamieoliver.com.   Since we want to base our architecture on a convolutional neural network we need to set a fixed size for the ingredient text size and a fixed size for the number of ingredients. We can pad the smaller ingredients or recipes, but still the larger our fixed sizes the slower our training will be. To get a sense of what make sense we will first count the ingredient sizes and the recipe sizes. \n",
    "\n",
    "For each recipe we have a name, a list of ingredients and a list of tags. The basically is a catch all tag field that includes cusine, type of meal. "
   ]
  },
  {
   "cell_type": "code",
   "execution_count": 1,
   "metadata": {
    "collapsed": true
   },
   "outputs": [],
   "source": [
    "import os\n",
    "import sys\n",
    "#code folder\n",
    "sys.path.append(\"../code/\")\n",
    "import json \n",
    "import matplotlib.pyplot as plt\n",
    "import operator\n",
    "from IPython.display import HTML, display\n",
    "import numpy as np\n",
    "import requests\n",
    "import re\n",
    "from urlparse import urlparse\n",
    "import hashlib\n",
    "%matplotlib inline"
   ]
  },
  {
   "cell_type": "markdown",
   "metadata": {},
   "source": [
    "I save my datasets on stack, this way i can download it easily from any machine"
   ]
  },
  {
   "cell_type": "code",
   "execution_count": 2,
   "metadata": {},
   "outputs": [],
   "source": [
    "from dataset import download_file_from_url,extract_zip_into\n",
    "CACHE_FOLDER = \".cache/\"\n",
    "RECIPE_DATASET = 'http://datasets.stijnvoss.com/recipes/preliminary.zip'\n",
    "\n",
    "def download_if_not_exists(RECIPE_DATASET):\n",
    "    folder = os.path.join(CACHE_FOLDER,hashlib.md5(RECIPE_DATASET).hexdigest())\n",
    "    if not os.path.exists(folder):\n",
    "        os.makedirs(folder)\n",
    "        \n",
    "    does_exists = len([fn for fn in os.listdir(folder) if fn[-5:] == '.json']) > 0\n",
    "    if not does_exists:\n",
    "        print \"Dataset not available, downloading from %s\" % RECIPE_DATASET\n",
    "        tmp_file = os.path.join(folder,'data.zip')\n",
    "        download_file_from_url(RECIPE_DATASET,tmp_file)\n",
    "        extract_zip_into(tmp_file, folder)\n",
    "        os.remove(tmp_file)\n",
    "        \n",
    "    return folder"
   ]
  },
  {
   "cell_type": "markdown",
   "metadata": {},
   "source": [
    "### General helpers functions"
   ]
  },
  {
   "cell_type": "code",
   "execution_count": 3,
   "metadata": {
    "collapsed": true
   },
   "outputs": [],
   "source": [
    "def _extract_tags(recipe):\n",
    "    if type(recipe['tags']) is not list:\n",
    "        recipe['tags'] = [recipe['tags']]\n",
    "    for tag in recipe['tags']:\n",
    "        if type(tag) is not list:\n",
    "            yield tag  \n",
    "        else:\n",
    "            for t in tag:\n",
    "                yield t    \n",
    "def tokenize(line):\n",
    "    line = line.replace(\"<br>\", \" \").replace(\". \", \" <eos> \").lower()\n",
    "    for token in re.findall(\"[\\w\\<\\>]+\", line, re.UNICODE):\n",
    "        yield token\n",
    "        \n",
    "def _read_recipes(dataset_url):\n",
    "    folder = download_if_not_exists(dataset_url)\n",
    "    for filename in os.listdir(folder):\n",
    "        json_file = os.path.join(folder, filename)\n",
    "        if os.path.isfile(json_file) and filename[-5:] == '.json':\n",
    "            with open(json_file,'r') as io:\n",
    "                data = json.load(io)\n",
    "                for recipe in data['recipes']:\n",
    "                    yield recipe\n"
   ]
  },
  {
   "cell_type": "markdown",
   "metadata": {},
   "source": [
    "### Statistics\n",
    "Some simple statistics about or dataset to come decide on our max character length and max recipe size"
   ]
  },
  {
   "cell_type": "code",
   "execution_count": 5,
   "metadata": {},
   "outputs": [
    {
     "data": {
      "text/html": [
       "<h3>Recipes</h3>"
      ],
      "text/plain": [
       "<IPython.core.display.HTML object>"
      ]
     },
     "metadata": {},
     "output_type": "display_data"
    },
    {
     "data": {
      "image/png": "[encoded data removed]",
      "text/plain": [
       "<matplotlib.figure.Figure at 0x109eae0d0>"
      ]
     },
     "metadata": {},
     "output_type": "display_data"
    },
    {
     "name": "stdout",
     "output_type": "stream",
     "text": [
      "16 0.9\n",
      "19 0.95\n",
      "21 0.975\n",
      "31 0.995\n",
      "172 0.999\n"
     ]
    },
    {
     "data": {
      "text/html": [
       "<h3>Ingredients</h3><p>We inspect the distribution of the number of  characters per ingredient and of the longest per recipe. The latter is usefull if we want to discard recipes with to long ingredient sizes.</p><h4>Ingredient sizes</h4>"
      ],
      "text/plain": [
       "<IPython.core.display.HTML object>"
      ]
     },
     "metadata": {},
     "output_type": "display_data"
    },
    {
     "data": {
      "image/png": "[encoded data removed]",
      "text/plain": [
       "<matplotlib.figure.Figure at 0x103da71d0>"
      ]
     },
     "metadata": {},
     "output_type": "display_data"
    },
    {
     "name": "stdout",
     "output_type": "stream",
     "text": [
      "46 0.9\n",
      "58 0.95\n",
      "71 0.975\n",
      "91 0.99\n",
      "207 0.999\n"
     ]
    },
    {
     "data": {
      "text/html": [
       "<h4>Longest ingredient length</h4> "
      ],
      "text/plain": [
       "<IPython.core.display.HTML object>"
      ]
     },
     "metadata": {},
     "output_type": "display_data"
    },
    {
     "data": {
      "image/png": "[encoded data removed]",
      "text/plain": [
       "<matplotlib.figure.Figure at 0x106ec9ad0>"
      ]
     },
     "metadata": {},
     "output_type": "display_data"
    },
    {
     "name": "stdout",
     "output_type": "stream",
     "text": [
      "86 0.9\n",
      "104 0.95\n",
      "129 0.975\n",
      "259 0.995\n",
      "483 0.999\n"
     ]
    },
    {
     "data": {
      "text/html": [
       "<h3>Tags</h3>"
      ],
      "text/plain": [
       "<IPython.core.display.HTML object>"
      ]
     },
     "metadata": {},
     "output_type": "display_data"
    },
    {
     "data": {
      "text/html": [
       "<table><tbody><tr><td><strong>American</strong>: 95373</td><td><strong>Bake</strong>: 56451</td><td><strong>Quick & Easy</strong>: 47599</td><td><strong>Dessert</strong>: 43111</td></tr><tr><td><strong>Dinner</strong>: 37219</td><td><strong>Side</strong>: 29644</td><td><strong>Vegetarian</strong>: 26951</td><td><strong>Vegetable</strong>: 24096</td></tr><tr><td><strong>Chicken</strong>: 21855</td><td><strong>Soup/Stew</strong>: 21808</td><td><strong>Appetizer</strong>: 19834</td><td><strong>Healthy</strong>: 19466</td></tr><tr><td><strong>Italian</strong>: 18544</td><td><strong>Salad</strong>: 16560</td><td><strong>Fruit</strong>: 15044</td><td><strong>Beef</strong>: 15039</td></tr><tr><td><strong>Peanut Free</strong>: 14687</td><td><strong>Soy Free</strong>: 14345</td><td><strong>Cheese</strong>: 13673</td><td><strong>Cake</strong>: 13577</td></tr><tr><td><strong>Wheat/Gluten-Free</strong>: 13546</td><td><strong>Chocolate</strong>: 13214</td><td><strong>Bon Appétit</strong>: 12890</td><td><strong>Tree Nut Free</strong>: 12508</td></tr><tr><td><strong>Sauté</strong>: 12097</td><td><strong>Kosher</strong>: 11863</td><td><strong>Cookies</strong>: 11691</td><td><strong>Egg</strong>: 11475</td></tr><tr><td><strong>Breakfast</strong>: 11382</td><td><strong>No-Cook</strong>: 11371</td><td><strong>Kid-Friendly</strong>: 11222</td><td><strong>Pasta</strong>: 11213</td></tr><tr><td><strong>Pescatarian</strong>: 10995</td><td><strong>Bread</strong>: 10703</td><td><strong>Fish</strong>: 10688</td><td><strong>Christmas</strong>: 9835</td></tr><tr><td><strong>Tomato</strong>: 9473</td><td><strong>Potato</strong>: 9300</td><td><strong>Summer</strong>: 9274</td><td><strong>Gourmet</strong>: 9253</td></tr><tr><td><strong>Pork</strong>: 9053</td><td><strong>Mexican</strong>: 8620</td><td><strong>Bean</strong>: 8445</td><td><strong>Thanksgiving</strong>: 8370</td></tr><tr><td><strong>Shellfish</strong>: 8237</td><td><strong>Sauce</strong>: 8159</td><td><strong>Lunch</strong>: 7986</td><td><strong>French</strong>: 7909</td></tr><tr><td><strong>Winter</strong>: 7759</td><td><strong>Condiment/Spread</strong>: 7635</td><td><strong>Asian</strong>: 7392</td><td><strong>Fall</strong>: 7270</td></tr><tr><td><strong>Vegan</strong>: 7220</td><td><strong>Nut</strong>: 6268</td><td><strong>Low Fat</strong>: 5872</td><td><strong>Brunch</strong>: 5744</td></tr><tr><td><strong>Fry</strong>: 5636</td><td><strong>Roast</strong>: 5553</td><td><strong>Dairy Free</strong>: 5338</td><td><strong>Simmer</strong>: 5321</td></tr><tr><td><strong>No Sugar Added</strong>: 5270</td><td><strong>Cocktail Party</strong>: 5213</td><td><strong>High Fiber</strong>: 4963</td><td><strong>Grill/Barbecue</strong>: 4830</td></tr><tr><td><strong>Kidney Friendly</strong>: 4664</td><td><strong>Casserole/Gratin</strong>: 4541</td><td><strong>Sandwich</strong>: 4489</td><td><strong>Sugar Conscious</strong>: 4403</td></tr><tr><td><strong>Mediterranean</strong>: 4332</td><td><strong>Low Cal</strong>: 4255</td><td><strong>Spring</strong>: 4138</td><td><strong>Mushroom</strong>: 4033</td></tr><tr><td><strong>Leafy Green</strong>: 3930</td><td><strong>Drink</strong>: 3914</td><td><strong>Backyard BBQ</strong>: 3804</td><td><strong>Low Carb</strong>: 3768</td></tr><tr><td><strong>Citrus</strong>: 3359</td><td><strong>Boil</strong>: 3298</td><td><strong>Indian</strong>: 3218</td><td><strong>Berry</strong>: 3206</td></tr><tr><td><strong>English</strong>: 3189</td><td><strong>Stew</strong>: 3064</td><td><strong>Herb</strong>: 3064</td><td><strong>Dairy</strong>: 2998</td></tr><tr><td><strong>turkey</strong>: 2969</td><td><strong>Pepper</strong>: 2951</td><td><strong>Freeze/Chill</strong>: 2923</td><td><strong>Onion</strong>: 2798</td></tr><tr><td><strong>Apple</strong>: 2777</td><td><strong>Lemon</strong>: 2695</td><td><strong>Milk/Cream</strong>: 2574</td><td><strong>Chill</strong>: 2446</td></tr><tr><td><strong>Stir-Fry</strong>: 2434</td><td><strong>Low/No Sugar</strong>: 2386</td><td><strong>Broil</strong>: 2380</td><td><strong>Picnic</strong>: 2355</td></tr><tr><td><strong>Candy</strong>: 2343</td><td><strong>Potluck</strong>: 2286</td><td><strong>Marinate</strong>: 2270</td><td><strong>Southwestern</strong>: 2266</td></tr><tr><td><strong>Braise</strong>: 2242</td></tr></tbody></table>"
      ],
      "text/plain": [
       "<IPython.core.display.HTML object>"
      ]
     },
     "metadata": {},
     "output_type": "display_data"
    },
    {
     "data": {
      "text/html": [
       "<h3>Names</h3>"
      ],
      "text/plain": [
       "<IPython.core.display.HTML object>"
      ]
     },
     "metadata": {},
     "output_type": "display_data"
    }
   ],
   "source": [
    "def get_ds_statictics(dataset_url):\n",
    "    ingredient_sizes = {}\n",
    "    max_ing_size_per_recipe = {}\n",
    "    recipe_sizes = {}\n",
    "    tags = {}\n",
    "    \n",
    "    for recipe in _read_recipes(dataset_url):\n",
    "        for t in _extract_tags(recipe):\n",
    "            if t not in tags:\n",
    "                tags[t] = 0\n",
    "            tags[t] += 1\n",
    "        recipe_len = len(recipe['ingredients'])\n",
    "        if recipe_len not in recipe_sizes:\n",
    "            recipe_sizes[recipe_len] = 0\n",
    "        recipe_sizes[recipe_len] += 1\n",
    "        ing_size = 0\n",
    "        for ingredient in recipe['ingredients']:\n",
    "            ingredient_len = len(ingredient)\n",
    "            if ingredient_len not in ingredient_sizes:\n",
    "                ingredient_sizes[ingredient_len] = 0\n",
    "            if ingredient_len > ing_size:\n",
    "                ing_size = ingredient_len\n",
    "            ingredient_sizes[ingredient_len] += 1\n",
    "        if ing_size not in max_ing_size_per_recipe:\n",
    "            max_ing_size_per_recipe[ing_size] = 0\n",
    "        max_ing_size_per_recipe[ing_size] += 1\n",
    "                \n",
    "    return ingredient_sizes, max_ing_size_per_recipe, recipe_sizes, tags\n",
    "                    \n",
    "                \n",
    "def print_percentages(counts, percent=[.9,.95,.975,.99,.999]):\n",
    "    total = float(sum(counts.values()))\n",
    "    till_now = 0\n",
    "    for x,y in counts.iteritems():\n",
    "        till_now += y\n",
    "        if till_now/total >= percent[0]:\n",
    "            print x,percent[0]\n",
    "            percent = percent[1:]\n",
    "            \n",
    "        \n",
    "        if len(percent) < 1:\n",
    "            break\n",
    "    \n",
    "\n",
    "ingredient_sizes, max_ing_size_per_recipe, recipe_sizes, tags = get_ds_statictics(RECIPE_DATASET)\n",
    "display(HTML(\"<h3>Recipes</h3>\"))\n",
    "plt.plot(recipe_sizes.keys(), recipe_sizes.values())\n",
    "plt.show()\n",
    "print_percentages(recipe_sizes, percent=[.9,.95,.975,.995,.999])\n",
    "\n",
    "display(HTML(\"<h3>Ingredients</h3><p>We inspect the distribution of the number of  characters per ingredient and of the longest per recipe. The latter is usefull if we want to discard recipes with to long ingredient sizes.</p><h4>Ingredient sizes</h4>\"))\n",
    "plt.plot(ingredient_sizes.keys(), ingredient_sizes.values())\n",
    "plt.show()\n",
    "print_percentages(ingredient_sizes)\n",
    "display(HTML(\"<h4>Longest ingredient length</h4> \"))\n",
    "plt.plot(max_ing_size_per_recipe.keys(), max_ing_size_per_recipe.values())\n",
    "plt.show()\n",
    "print_percentages(max_ing_size_per_recipe, percent=[.9,.95,.975,.995,.999])\n",
    "\n",
    "display(HTML(\"<h3>Tags</h3>\"))\n",
    "#sort tags to show top N\n",
    "tags = sorted(tags.items(), key=operator.itemgetter(1),reverse=True)\n",
    "N = 100\n",
    "PER_ROW = 4\n",
    "row = \"\"\n",
    "counter = 0\n",
    "\n",
    "html = \"<table><tbody><tr>\"\n",
    "for t,c in tags:\n",
    "    counter +=1\n",
    "    html += \"<td><strong>%s</strong>: %d</td>\" % (t,c)\n",
    "    if counter % PER_ROW == 0:\n",
    "        html += \"</tr><tr>\"\n",
    "    if counter > N:\n",
    "        break\n",
    "html += \"</tr></tbody></table>\"\n",
    "    \n",
    "display(HTML(html)) \n",
    "display(HTML(\"<h3>Names</h3>\"))"
   ]
  },
  {
   "cell_type": "markdown",
   "metadata": {},
   "source": [
    "### Build dataset\n",
    "We will fix the ingredient text size to 128 or 256 characters and set the number of ingredients to 32. We will compare performance for text size in terms of performance and task performance. We will remove the complete recipe if the number of ingredients or text size exceeds the limit. \n",
    "\n",
    "We are going to build a dataset with the following data per recipe:\n",
    "- **X_char**: Each recipe thus consists of a 32x(128|256) matrix of 8-bit unsigned integers. With 8-bit integers we can represents alphabet size up to 255 characters. One hot encoding will happen on run-time\n",
    "- **X_words**: Sparse vector of 8-bit integers representing counts of . Can be used for a\n",
    "- **Y_name**: Sparse vector of 8-bit integers representing counts of words occurences in the names. Words that occur less then 5 times over the whole dataset will be filtered out. \n",
    "- **Y_vegetarian**: 8-bit integer 0 if not known, 1 if vegetarian, 2 if not vegatarian. \n",
    "- **Y_cusine**: 8-bit integer 0 if not know, idx number depending on the list of cuisines given for every other cuisine\n",
    "\n",
    "We will also build the following vocabularies along with the data above:\n",
    "- **Alphabet:** The alphabet used to learn this data\n",
    "- **Ingredient words:** For the words found in the ingredients\n",
    "- **Name words:** For the words found in the names\n",
    "\n",
    "Please note that we assume that the tags are always correctly used. So a meal is nog tagged with containing meat and being vegetarian at the same time"
   ]
  },
  {
   "cell_type": "code",
   "execution_count": 13,
   "metadata": {},
   "outputs": [
    {
     "name": "stdout",
     "output_type": "stream",
     "text": [
      "Using dataset of 14.5 GB. Found a total of 247880 recipes\n"
     ]
    }
   ],
   "source": [
    "# By default we use the hash of arguments of build_dataset to cache the dataset. \n",
    "# set to NONE to prevent caching behaviour\n",
    "import scipy.sparse\n",
    "VEGAN = ['vegetarian','vegan']\n",
    "MEAT = ['fish','chicken','pork','beef','pork recipes','lamb','beef recipes','duck','duck recipes','turkey','turkey recipes','seafood recipes','seafood','lamb recipes']\n",
    "CUISINES = ['italian','asian','american','french','indian','british','mexican','chinese','mediterranean']\n",
    "\n",
    "def create_alphabet(case_sensitive=True, digits=True, others=\"%.&[]()%!~-+ \"):\n",
    "    \"\"\" Creates dictionary from character to integer index, also creates inverse\n",
    "    \"\"\"\n",
    "    alphabet = \"abcdefghijklmnopqrstuvwxyz\"\n",
    "    if case_sensitive:\n",
    "        alphabet += alphabet.upper()\n",
    "    if digits:\n",
    "        alphabet += \"0123456789\"\n",
    "    alphabet += others\n",
    "    # 0 is catch all\n",
    "    return dict([(a,i+1) for i,a in enumerate(alphabet)]),dict([(i+1,a) for i,a in enumerate(alphabet)])\n",
    "\n",
    "\n",
    "def _determine_labels(recipe, veg_tags, meat_tags, cus_tags):\n",
    "    \"\"\" Helper function that determines cusine and vegetarian label for a recipe\n",
    "    \"\"\"\n",
    "    veg = 0\n",
    "    cus = 0\n",
    "    for t in _extract_tags(recipe):\n",
    "        t = t.lower()\n",
    "        if t in veg_tags:\n",
    "            veg = 1\n",
    "        elif t in meat_tags:\n",
    "            veg = 2\n",
    "        if t in cus_tags:\n",
    "            cus = cus_tags.index(t) + 1\n",
    "    return veg,cus\n",
    "\n",
    "def find_chars(ingredient, text_size, max_text_size, char2int):\n",
    "    chars = []\n",
    "    for ci in xrange(max_text_size):\n",
    "        if ci < text_size and ingredient[ci] in char2int:\n",
    "            chars.append(char2int[ingredient[ci]])\n",
    "        else:\n",
    "            chars.append(0) #padding and catch-all\n",
    "    return chars\n",
    "\n",
    "def map_word_sequence(input_string, inv_voc, counter=None):\n",
    "    \"\"\"\n",
    "    Tokenizes a string into sequence of ints, based on vocobulary\n",
    "    Will also expand vocabular if neccesary\n",
    "    \"\"\"\n",
    "    seq = []\n",
    "    for token in tokenize(input_string):\n",
    "        if token not in inv_voc:\n",
    "            inv_voc[token] = len(inv_voc)\n",
    "        idx = inv_voc[token]\n",
    "        seq.append(idx)\n",
    "        if counter is not None:\n",
    "            if idx not in counter:\n",
    "                counter[idx] =0\n",
    "            counter[idx] += 1\n",
    "            \n",
    "    return seq\n",
    "\n",
    "def _map_to_new_voc(Y,mapping):\n",
    "    \"\"\"Maps from old voc to new voc recusivly in case you want to rewrite your vocu\"\"\"\n",
    "    if type(Y) is list:\n",
    "        return [x for x in [_map_to_new_voc(y,mapping) for y in Y] if x is not None]\n",
    "    elif Y in mapping:\n",
    "        return mapping[Y]\n",
    "    else:\n",
    "        None\n",
    "\n",
    "# Shared helping functions\n",
    "def create_normal_voc(voc):\n",
    "    \"\"\" Creates inverse vocabulary from word to index\n",
    "    \"\"\"\n",
    "    l = ['' for v in xrange(len(voc))]\n",
    "    for w,i in voc.iteritems():\n",
    "        l[i] = w\n",
    "    return l\n",
    "    \n",
    "        \n",
    "        \n",
    "def apply_threshold_to_voc(Y, inv_voc, voc_counter, min_th):\n",
    "    voc = create_normal_voc(inv_voc)\n",
    "    \n",
    "    #create new mapping going from old idx to new\n",
    "    new_mapping = {}\n",
    "    new_voc = {} #also build new vocubulary\n",
    "    for x,y in voc_counter.iteritems():\n",
    "        if y >= min_th:\n",
    "            idx = len(new_mapping)\n",
    "            new_mapping[x] = idx\n",
    "            new_voc[voc[x]] = idx\n",
    "            \n",
    "    #then walk over sequences:\n",
    "    return _map_to_new_voc(Y, new_mapping),new_voc\n",
    "\n",
    "def convert_to_count_array(sequences, dtype=np.int8,max_value=None):\n",
    "    \"\"\" Gets a list of sequences of integers,\n",
    "    \"\"\"\n",
    "    if max_value is None:\n",
    "        max_value = max([max(s) for s in sequences if len(s) > 0])\n",
    "    X = np.zeros((len(sequences),max_value+1),dtype=dtype)\n",
    "    for idx in xrange(len(sequences)):\n",
    "        sequence=sequences[idx]\n",
    "        for s in sequence:\n",
    "            X[idx,s] += 1\n",
    "    return X\n",
    "    \n",
    "            \n",
    "\n",
    "def build_dataset(dataset_url, case_sensitive=True, digits=True, others=\"%.&[]()%!~-+ \",cusines=CUISINES,vegetarian=VEGAN,meat=MEAT,name_th=5,max_text_size=128,max_recipe_size=32):\n",
    "    function_str = \".\".join([str(l) for l in locals()])\n",
    "    npz_file = os.path.join(CACHE_FOLDER, hashlib.md5(function_str).hexdigest()+\".npz\")\n",
    "    if not os.path.exists(npz_file):\n",
    "        char2int, int2char = create_alphabet(case_sensitive, digits, others)\n",
    "        if len(int2char) > 255:\n",
    "            raise Exception(\"Alphabet size of %d exceeds maximum of 255 characters\")\n",
    "        X_char = []\n",
    "        X_words = []\n",
    "        voc_ingredients = {}\n",
    "        voc_names = {}\n",
    "        voc_names_counter = {}\n",
    "\n",
    "        Y_cuisine = []\n",
    "        Y_vegetarian = []\n",
    "        Y_names = []\n",
    "        counter = 0\n",
    "        LIMIT = 1000\n",
    "        for recipe in _read_recipes(dataset_url):\n",
    "            if recipe['recipe_name'] is None:\n",
    "                continue\n",
    "\n",
    "            #name\n",
    "            names = map_word_sequence(recipe['recipe_name'],voc_names,voc_names_counter)\n",
    "\n",
    "            #Ingredients:\n",
    "            chars = []\n",
    "            words = []\n",
    "            if len(recipe['ingredients']) > max_recipe_size:\n",
    "                continue\n",
    "\n",
    "            for ingredient in recipe['ingredients']:\n",
    "                #chars\n",
    "                l = len(ingredient)\n",
    "                if l > max_text_size:\n",
    "                    continue\n",
    "                if not case_sensitive:\n",
    "                    ingredient.lower()\n",
    "                chars.append(find_chars(ingredient, l, max_text_size, char2int))\n",
    "                words.extend(map_word_sequence(ingredient,voc_ingredients))\n",
    "\n",
    "            for i in xrange(len(chars),max_recipe_size):\n",
    "                chars.append([0 for i in xrange(max_text_size)])\n",
    "\n",
    "            X_char.append(chars)\n",
    "            X_words.append(words)\n",
    "            Y_names.append(names)\n",
    "\n",
    "            # Label:\n",
    "            veg,cus = _determine_labels(recipe, vegetarian, meat, cusines)\n",
    "            Y_cuisine.append(cus)\n",
    "            Y_vegetarian.append(veg)\n",
    "            counter += 1\n",
    "\n",
    "\n",
    "        #This removes names of recipes that are below the threshold and creates new vocabulary\n",
    "        Y_names,voc_names = apply_threshold_to_voc(Y_names, voc_names, voc_names_counter,name_th )\n",
    "        # While building this dataet it was easier to used in the inversed vocubalaries,\n",
    "        # But for numpy we are going to need lists..\n",
    "        voc_names = create_normal_voc(voc_names)\n",
    "        voc_ingredients = create_normal_voc(voc_ingredients)\n",
    "        #convert list of characters manually, also make sure that 0 character is present\n",
    "        int2char[0] = ''\n",
    "        char_voc = [int2char[i] for i in xrange(len(int2char))]\n",
    "\n",
    "        #Lastly we are going to convert everything to numpy before we save it:\n",
    "        X_char = np.array(X_char,dtype=np.int8)\n",
    "        X_words = convert_to_count_array(X_words,dtype=np.int8)\n",
    "        Y_names = convert_to_count_array(Y_names,dtype=np.int8)\n",
    "        Y_cuisine = np.array(Y_cuisine,dtype=np.int8)\n",
    "        Y_vegetarian = np.array(Y_vegetarian,dtype=np.int8)\n",
    "\n",
    "        int2char = np.array(char_voc,dtype=np.unicode_)\n",
    "        voc_ingredients = np.array(voc_ingredients,dtype=np.unicode_)\n",
    "        voc_names = np.array(voc_names,dtype=np.unicode_)\n",
    "\n",
    "        #Save it\n",
    "        np.savez(npz_file,X_char=X_char,X_words=X_words,Y_names=Y_names,Y_cuisine=Y_cuisine,Y_vegetarian=Y_vegetarian,int2char=int2char,voc_ingredients=voc_ingredients,voc_names=voc_names)\n",
    "    else:\n",
    "        data = np.load(npz_file)\n",
    "        \n",
    "        X_char,X_words = data['X_char'],data['X_words']\n",
    "        Y_names,Y_cuisine,Y_vegetarian = data['Y_names'],data['Y_cuisine'],data['Y_vegetarian']\n",
    "        int2char, voc_ingredients, voc_names = data['int2char'], data['voc_ingredients'], data['voc_names']\n",
    "    import humanize\n",
    "    size = humanize.naturalsize(os.path.getsize(npz_file))\n",
    "    print \"Using dataset of %s. Found a total of %d recipes\" % (size, X_char.shape[0])\n",
    "    return (X_char, X_words),(Y_names,Y_cuisine,Y_vegetarian), (int2char, voc_ingredients, voc_names)\n",
    "\n",
    "(X_char, X_words), (Y_names,Y_cuisine,Y_vegetarian), (int2char, voc_ingredients, voc_names) = build_dataset(RECIPE_DATASET,name_th=5)"
   ]
  },
  {
   "cell_type": "markdown",
   "metadata": {},
   "source": [
    "#### Dataset size\n",
    "As you can see we are only processing about 250,000 recipes in this preliminary research. But we are already used 15GB of dataset. If we would scale up to 10 mln as we are originally planning for. We might need another approach. Let's have a look how much storage each part takes:"
   ]
  },
  {
   "cell_type": "code",
   "execution_count": 19,
   "metadata": {},
   "outputs": [
    {
     "name": "stdout",
     "output_type": "stream",
     "text": [
      "X_char: 1.0 GB\n",
      "X_words: 11.8 GB\n",
      "Y_names: 1.7 GB\n",
      "Y_cuisine: 248.1 kB\n",
      "Y_vegetarian: 248.1 kB\n",
      "int2char: 500 Bytes\n",
      "voc_ingredients: 12.3 MB\n",
      "voc_names: 475.7 kB\n"
     ]
    }
   ],
   "source": [
    "import humanize\n",
    "    \n",
    "save_file = os.path.join(CACHE_FOLDER,'test.npz')\n",
    "for data in ['X_char','X_words','Y_names','Y_cuisine','Y_vegetarian','int2char','voc_ingredients','voc_names']:\n",
    "    np.savez(save_file,locals()[data])\n",
    "    size = humanize.naturalsize(os.path.getsize(save_file))\n",
    "    print \"%s: %s\" % (data,size)\n",
    "    os.remove(save_file)"
   ]
  },
  {
   "cell_type": "markdown",
   "metadata": {},
   "source": [
    "By far most of the storage is used by the not-sparse-represented matrixes. There should be a lot we can safe when we use save it a more efficient format. And for example pad on run time. "
   ]
  },
  {
   "cell_type": "code",
   "execution_count": 21,
   "metadata": {},
   "outputs": [
    {
     "name": "stdout",
     "output_type": "stream",
     "text": [
      "From a total of 247880 recipes, 143959 have a cuisine defined\n",
      "From a total of 247880 recipes, 90575 have defined the meal to be vegetarion or not\n"
     ]
    }
   ],
   "source": [
    "print \"From a total of %d recipes, %d have a cuisine defined\" % (len(Y_cuisine),len([x for x in Y_cuisine if x > 0]))\n",
    "print \"From a total of %d recipes, %d have defined the meal to be vegetarion or not\" % (len(Y_vegetarian),len([x for x in Y_vegetarian if x > 0]))"
   ]
  },
  {
   "cell_type": "markdown",
   "metadata": {},
   "source": [
    "## Our loss function"
   ]
  },
  {
   "cell_type": "code",
   "execution_count": null,
   "metadata": {
    "collapsed": true
   },
   "outputs": [],
   "source": []
  }
 ],
 "metadata": {
  "kernelspec": {
   "display_name": "Python 2",
   "language": "python",
   "name": "python2"
  },
  "language_info": {
   "codemirror_mode": {
    "name": "ipython",
    "version": 2
   },
   "file_extension": ".py",
   "mimetype": "text/x-python",
   "name": "python",
   "nbconvert_exporter": "python",
   "pygments_lexer": "ipython2",
   "version": "2.7.12"
  }
 },
 "nbformat": 4,
 "nbformat_minor": 2
}
